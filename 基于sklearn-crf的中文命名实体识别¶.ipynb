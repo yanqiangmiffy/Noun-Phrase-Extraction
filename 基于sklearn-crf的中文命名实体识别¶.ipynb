{
 "cells": [
  {
   "cell_type": "code",
   "execution_count": 1,
   "id": "6602ae7a-32d9-4158-97d4-be06148b66b1",
   "metadata": {},
   "outputs": [],
   "source": [
    "import re\n",
    "import sklearn_crfsuite\n",
    "from sklearn_crfsuite import metrics\n",
    "import joblib\n",
    "import yaml\n",
    "import warnings\n",
    "\n",
    "warnings.filterwarnings('ignore')"
   ]
  },
  {
   "cell_type": "markdown",
   "id": "9cea18ca-4ed8-4373-b4b5-7d15aae09153",
   "metadata": {},
   "source": [
    "## 通用函数"
   ]
  },
  {
   "cell_type": "code",
   "execution_count": 2,
   "id": "b1ec326f-48a3-461c-9349-25b0361906dd",
   "metadata": {},
   "outputs": [],
   "source": [
    "def load_data(data_path):\n",
    "    data = list()\n",
    "    data_sent_with_label = list()\n",
    "    with open(data_path, mode='r', encoding=\"utf-8\") as f:\n",
    "        for line in f:\n",
    "            if line.strip() == \"\":\n",
    "                data.append(data_sent_with_label.copy())\n",
    "                data_sent_with_label.clear()\n",
    "            else:\n",
    "                data_sent_with_label.append(tuple(line.strip().split(\" \")))\n",
    "    return data"
   ]
  },
  {
   "cell_type": "code",
   "execution_count": null,
   "id": "ceed9860-0602-4c61-9855-2a6fcf8f9bad",
   "metadata": {},
   "outputs": [],
   "source": []
  },
  {
   "cell_type": "code",
   "execution_count": null,
   "id": "80eef6be-ca98-4e0a-96ae-1fca7355630e",
   "metadata": {},
   "outputs": [],
   "source": []
  },
  {
   "cell_type": "code",
   "execution_count": 3,
   "id": "4f49ed0a-def3-43c6-a59f-c8b52673178a",
   "metadata": {},
   "outputs": [],
   "source": [
    "def word2features(sent, i):\n",
    "    word = sent[i][0]\n",
    "\n",
    "    features = {\n",
    "        'bias': 1.0,\n",
    "        'word': word,\n",
    "        'word.isdigit()': word.isdigit(),\n",
    "    }\n",
    "    if i > 0:\n",
    "        word1 = sent[i-1][0]\n",
    "        words = word1 + word\n",
    "        features.update({\n",
    "            '-1:word': word1,\n",
    "            '-1:words': words,\n",
    "            '-1:word.isdigit()': word1.isdigit(),\n",
    "        })\n",
    "    else:\n",
    "        features['BOS'] = True\n",
    "\n",
    "    if i > 1:\n",
    "        word2 = sent[i-2][0]\n",
    "        word1 = sent[i-1][0]\n",
    "        words = word1 + word2 + word\n",
    "        features.update({\n",
    "            '-2:word': word2,\n",
    "            '-2:words': words,\n",
    "            '-3:word.isdigit()': word1.isdigit(),\n",
    "        })\n",
    "\n",
    "    if i > 2:\n",
    "        word3 = sent[i - 3][0]\n",
    "        word2 = sent[i - 2][0]\n",
    "        word1 = sent[i - 1][0]\n",
    "        words = word1 + word2 + word3 + word\n",
    "        features.update({\n",
    "            '-3:word': word3,\n",
    "            '-3:words': words,\n",
    "            '-3:word.isdigit()': word1.isdigit(),\n",
    "        })\n",
    "\n",
    "    if i < len(sent)-1:\n",
    "        word1 = sent[i+1][0]\n",
    "        words = word1 + word\n",
    "        features.update({\n",
    "            '+1:word': word1,\n",
    "            '+1:words': words,\n",
    "            '+1:word.isdigit()': word1.isdigit(),\n",
    "        })\n",
    "    else:\n",
    "        features['EOS'] = True\n",
    "\n",
    "    if i < len(sent)-2:\n",
    "        word2 = sent[i + 2][0]\n",
    "        word1 = sent[i + 1][0]\n",
    "        words = word + word1 + word2\n",
    "        features.update({\n",
    "            '+2:word': word2,\n",
    "            '+2:words': words,\n",
    "            '+2:word.isdigit()': word2.isdigit(),\n",
    "        })\n",
    "\n",
    "    if i < len(sent)-3:\n",
    "        word3 = sent[i + 3][0]\n",
    "        word2 = sent[i + 2][0]\n",
    "        word1 = sent[i + 1][0]\n",
    "        words = word + word1 + word2 + word3\n",
    "        features.update({\n",
    "            '+3:word': word3,\n",
    "            '+3:words': words,\n",
    "            '+3:word.isdigit()': word3.isdigit(),\n",
    "        })\n",
    "\n",
    "    return features"
   ]
  },
  {
   "cell_type": "code",
   "execution_count": 4,
   "id": "3006b5e2-6494-4300-b232-62b041afd9dd",
   "metadata": {},
   "outputs": [],
   "source": [
    "def sent2features(sent):\n",
    "    return [word2features(sent, i) for i in range(len(sent))]\n",
    "\n",
    "\n",
    "def sent2labels(sent):\n",
    "    return [ele[-1] for ele in sent]\n"
   ]
  },
  {
   "cell_type": "code",
   "execution_count": 5,
   "id": "f95f1ff6-0939-4273-a207-3971859c127a",
   "metadata": {},
   "outputs": [
    {
     "name": "stdout",
     "output_type": "stream",
     "text": [
      "5021 5021 5021\n",
      "(002399)调研地点\n",
      "['O', 'O', 'O', 'O', 'O', 'O', 'O', 'O', 'B-NOUN', 'I-NOUN', 'I-NOUN', 'I-NOUN']\n"
     ]
    }
   ],
   "source": [
    "train=load_data('data/train.txt')\n",
    "valid=load_data('data/train.txt')\n",
    "test=load_data('data/train.txt')\n",
    "print(len(train),len(valid),len(test))\n",
    "\n",
    "sample_text=''.join([c[0] for c in train[0]])\n",
    "sample_tags=[c[1] for c in train[0]]\n",
    "print(sample_text)\n",
    "print(sample_tags)"
   ]
  },
  {
   "cell_type": "code",
   "execution_count": 6,
   "id": "8193ae0d-0926-41b8-a84a-f9ed26a2cbaf",
   "metadata": {},
   "outputs": [],
   "source": [
    "\n",
    "\n",
    "X_train = [sent2features(s) for s in train]\n",
    "y_train = [sent2labels(s) for s in train]\n",
    "\n",
    "X_dev = [sent2features(s) for s in valid]\n",
    "y_dev = [sent2labels(s) for s in valid]"
   ]
  },
  {
   "cell_type": "code",
   "execution_count": 7,
   "id": "67761997-2225-46e5-8072-6150b7bc2067",
   "metadata": {},
   "outputs": [
    {
     "name": "stderr",
     "output_type": "stream",
     "text": [
      "loading training data to CRFsuite: 100%|████████████████████████████████████████████████████████████████████████████████████████████████████████████████████████████████████████████████████████████████████████████████████████████████████| 5021/5021 [00:00<00:00, 5499.55it/s]\n"
     ]
    },
    {
     "name": "stdout",
     "output_type": "stream",
     "text": [
      "\n",
      "Feature generation\n",
      "type: CRF1d\n",
      "feature.minfreq: 0.000000\n",
      "feature.possible_states: 0\n",
      "feature.possible_transitions: 1\n",
      "0....1....2....3....4....5....6....7....8....9....10\n",
      "Number of features: 136892\n",
      "Seconds required: 0.360\n",
      "\n",
      "L-BFGS optimization\n",
      "c1: 0.250000\n",
      "c2: 0.018000\n",
      "num_memories: 6\n",
      "max_iterations: 100\n",
      "epsilon: 0.000010\n",
      "stop: 10\n",
      "delta: 0.000010\n",
      "linesearch: MoreThuente\n",
      "linesearch.max_iterations: 20\n",
      "\n",
      "Iter 1   time=0.05  loss=42874.41 active=134915 feature_norm=1.00\n",
      "Iter 2   time=0.03  loss=35034.49 active=132963 feature_norm=1.91\n",
      "Iter 3   time=0.04  loss=30110.05 active=134396 feature_norm=2.76\n",
      "Iter 4   time=0.03  loss=25346.04 active=133673 feature_norm=3.33\n",
      "Iter 5   time=0.03  loss=21812.82 active=133580 feature_norm=4.33\n",
      "Iter 6   time=0.03  loss=19847.97 active=134380 feature_norm=5.54\n",
      "Iter 7   time=0.03  loss=18043.07 active=134437 feature_norm=6.32\n",
      "Iter 8   time=0.03  loss=16596.34 active=133137 feature_norm=7.65\n",
      "Iter 9   time=0.03  loss=15358.26 active=132126 feature_norm=9.14\n",
      "Iter 10  time=0.03  loss=14196.58 active=131562 feature_norm=10.93\n",
      "Iter 11  time=0.03  loss=13404.82 active=129645 feature_norm=12.68\n",
      "Iter 12  time=0.03  loss=12280.06 active=123819 feature_norm=14.40\n",
      "Iter 13  time=0.04  loss=11118.33 active=119126 feature_norm=16.16\n",
      "Iter 14  time=0.03  loss=10133.61 active=115616 feature_norm=17.63\n",
      "Iter 15  time=0.03  loss=9245.20  active=110202 feature_norm=19.24\n",
      "Iter 16  time=0.03  loss=8530.49  active=106755 feature_norm=21.46\n",
      "Iter 17  time=0.03  loss=7800.89  active=102761 feature_norm=23.39\n",
      "Iter 18  time=0.03  loss=7284.53  active=98289 feature_norm=25.63\n",
      "Iter 19  time=0.03  loss=6736.16  active=95177 feature_norm=28.63\n",
      "Iter 20  time=0.03  loss=6309.31  active=88652 feature_norm=31.29\n",
      "Iter 21  time=0.03  loss=5855.94  active=83413 feature_norm=34.66\n",
      "Iter 22  time=0.03  loss=5462.26  active=74409 feature_norm=38.90\n",
      "Iter 23  time=0.03  loss=5115.49  active=65028 feature_norm=42.64\n",
      "Iter 24  time=0.04  loss=4873.19  active=64692 feature_norm=45.17\n",
      "Iter 25  time=0.03  loss=4559.65  active=60635 feature_norm=49.83\n",
      "Iter 26  time=0.03  loss=4343.15  active=57852 feature_norm=53.15\n",
      "Iter 27  time=0.03  loss=4132.82  active=55209 feature_norm=57.20\n",
      "Iter 28  time=0.03  loss=3957.78  active=51273 feature_norm=60.25\n",
      "Iter 29  time=0.03  loss=3826.11  active=46693 feature_norm=62.77\n",
      "Iter 30  time=0.03  loss=3703.85  active=46116 feature_norm=64.95\n",
      "Iter 31  time=0.04  loss=3600.89  active=43868 feature_norm=66.80\n",
      "Iter 32  time=0.03  loss=3515.93  active=42504 feature_norm=68.53\n",
      "Iter 33  time=0.03  loss=3451.56  active=39938 feature_norm=70.12\n",
      "Iter 34  time=0.03  loss=3395.84  active=39305 feature_norm=71.48\n",
      "Iter 35  time=0.03  loss=3336.22  active=36643 feature_norm=73.64\n",
      "Iter 36  time=0.04  loss=3292.69  active=34754 feature_norm=75.02\n",
      "Iter 37  time=0.03  loss=3256.45  active=32962 feature_norm=76.65\n",
      "Iter 38  time=0.04  loss=3225.83  active=31640 feature_norm=77.96\n",
      "Iter 39  time=0.03  loss=3201.52  active=30094 feature_norm=79.40\n",
      "Iter 40  time=0.03  loss=3182.06  active=29083 feature_norm=80.28\n",
      "Iter 41  time=0.03  loss=3165.07  active=28328 feature_norm=81.17\n",
      "Iter 42  time=0.04  loss=3147.33  active=27399 feature_norm=82.02\n",
      "Iter 43  time=0.03  loss=3132.20  active=26308 feature_norm=82.97\n",
      "Iter 44  time=0.03  loss=3119.26  active=25638 feature_norm=83.50\n",
      "Iter 45  time=0.03  loss=3106.33  active=24907 feature_norm=84.14\n",
      "Iter 46  time=0.03  loss=3093.95  active=24259 feature_norm=84.61\n",
      "Iter 47  time=0.03  loss=3083.85  active=23785 feature_norm=85.07\n",
      "Iter 48  time=0.04  loss=3075.31  active=23341 feature_norm=85.32\n",
      "Iter 49  time=0.04  loss=3067.07  active=22992 feature_norm=85.64\n",
      "Iter 50  time=0.04  loss=3059.14  active=22592 feature_norm=85.77\n",
      "Iter 51  time=0.04  loss=3051.32  active=22082 feature_norm=85.93\n",
      "Iter 52  time=0.04  loss=3043.68  active=21660 feature_norm=85.96\n",
      "Iter 53  time=0.03  loss=3036.70  active=21296 feature_norm=86.10\n",
      "Iter 54  time=0.03  loss=3030.93  active=21100 feature_norm=86.08\n",
      "Iter 55  time=0.03  loss=3025.22  active=20855 feature_norm=86.13\n",
      "Iter 56  time=0.04  loss=3019.03  active=20563 feature_norm=86.08\n",
      "Iter 57  time=0.04  loss=3012.95  active=20257 feature_norm=86.07\n",
      "Iter 58  time=0.03  loss=3008.09  active=20055 feature_norm=86.02\n",
      "Iter 59  time=0.04  loss=3003.26  active=19954 feature_norm=86.01\n",
      "Iter 60  time=0.04  loss=2998.54  active=19757 feature_norm=85.94\n",
      "Iter 61  time=0.04  loss=2992.48  active=19367 feature_norm=85.88\n",
      "Iter 62  time=0.04  loss=2988.52  active=19321 feature_norm=85.89\n",
      "Iter 63  time=0.03  loss=2984.65  active=19261 feature_norm=85.91\n",
      "Iter 64  time=0.03  loss=2979.40  active=19003 feature_norm=85.95\n",
      "Iter 65  time=0.04  loss=2975.60  active=18539 feature_norm=86.07\n",
      "Iter 66  time=0.03  loss=2971.17  active=18577 feature_norm=86.09\n",
      "Iter 67  time=0.03  loss=2968.09  active=18570 feature_norm=86.15\n",
      "Iter 68  time=0.03  loss=2963.48  active=18303 feature_norm=86.24\n",
      "Iter 69  time=0.03  loss=2961.98  active=18040 feature_norm=86.40\n",
      "Iter 70  time=0.03  loss=2957.26  active=18072 feature_norm=86.45\n",
      "Iter 71  time=0.03  loss=2955.03  active=18020 feature_norm=86.53\n",
      "Iter 72  time=0.03  loss=2952.82  active=17910 feature_norm=86.62\n",
      "Iter 73  time=0.03  loss=2951.05  active=17784 feature_norm=86.77\n",
      "Iter 74  time=0.03  loss=2948.27  active=17755 feature_norm=86.85\n",
      "Iter 75  time=0.03  loss=2946.36  active=17762 feature_norm=86.94\n",
      "Iter 76  time=0.03  loss=2944.48  active=17660 feature_norm=87.01\n",
      "Iter 77  time=0.03  loss=2942.80  active=17560 feature_norm=87.15\n",
      "Iter 78  time=0.03  loss=2940.84  active=17392 feature_norm=87.25\n",
      "Iter 79  time=0.04  loss=2938.79  active=17313 feature_norm=87.40\n",
      "Iter 80  time=0.03  loss=2936.95  active=17250 feature_norm=87.46\n",
      "Iter 81  time=0.03  loss=2935.40  active=17139 feature_norm=87.56\n",
      "Iter 82  time=0.03  loss=2933.72  active=16992 feature_norm=87.64\n",
      "Iter 83  time=0.03  loss=2932.45  active=16898 feature_norm=87.77\n",
      "Iter 84  time=0.03  loss=2930.91  active=16838 feature_norm=87.85\n",
      "Iter 85  time=0.03  loss=2929.46  active=16807 feature_norm=87.95\n",
      "Iter 86  time=0.03  loss=2928.25  active=16742 feature_norm=88.01\n",
      "Iter 87  time=0.03  loss=2926.93  active=16715 feature_norm=88.11\n",
      "Iter 88  time=0.03  loss=2925.80  active=16600 feature_norm=88.17\n",
      "Iter 89  time=0.03  loss=2924.47  active=16504 feature_norm=88.30\n",
      "Iter 90  time=0.03  loss=2923.29  active=16472 feature_norm=88.36\n",
      "Iter 91  time=0.03  loss=2922.11  active=16442 feature_norm=88.45\n",
      "Iter 92  time=0.03  loss=2921.17  active=16346 feature_norm=88.51\n",
      "Iter 93  time=0.04  loss=2920.13  active=16272 feature_norm=88.61\n",
      "Iter 94  time=0.04  loss=2919.24  active=16163 feature_norm=88.66\n",
      "Iter 95  time=0.03  loss=2918.16  active=16100 feature_norm=88.77\n",
      "Iter 96  time=0.03  loss=2917.27  active=16069 feature_norm=88.82\n",
      "Iter 97  time=0.04  loss=2916.24  active=16026 feature_norm=88.92\n",
      "Iter 98  time=0.04  loss=2915.31  active=15990 feature_norm=88.97\n",
      "Iter 99  time=0.03  loss=2914.28  active=15897 feature_norm=89.05\n",
      "Iter 100 time=0.03  loss=2913.47  active=15855 feature_norm=89.10\n",
      "L-BFGS terminated with the maximum number of iterations\n",
      "Total seconds required for training: 3.248\n",
      "\n",
      "Storing the model\n",
      "Number of active features: 15855 (136892)\n",
      "Number of active attributes: 12201 (122002)\n",
      "Number of active labels: 3 (3)\n",
      "Writing labels\n",
      "Writing attributes\n",
      "Writing feature references for transitions\n",
      "Writing feature references for attributes\n",
      "Seconds required: 0.031\n",
      "\n"
     ]
    },
    {
     "data": {
      "text/plain": [
       "CRF(algorithm='lbfgs', all_possible_transitions=True, c1=0.25, c2=0.018,\n",
       "    keep_tempfiles=None, max_iterations=100, verbose=True)"
      ]
     },
     "execution_count": 7,
     "metadata": {},
     "output_type": "execute_result"
    }
   ],
   "source": [
    "# **表示该位置接受任意多个关键字（keyword）参数，在函数**位置上转化为词典 [key:value, key:value ]\n",
    "crf_model = sklearn_crfsuite.CRF(algorithm='lbfgs',c1=0.25,c2=0.018,max_iterations=100,\n",
    "                                 all_possible_transitions=True,verbose=True)\n",
    "crf_model.fit(X_train, y_train)"
   ]
  },
  {
   "cell_type": "code",
   "execution_count": 8,
   "id": "5534f458-44dc-4777-bce4-58c2e701d9cc",
   "metadata": {},
   "outputs": [
    {
     "name": "stdout",
     "output_type": "stream",
     "text": [
      "              precision    recall  f1-score   support\n",
      "\n",
      "      B-NOUN      0.993     0.992     0.993      7496\n",
      "      I-NOUN      0.993     0.997     0.995     21526\n",
      "\n",
      "   micro avg      0.993     0.996     0.995     29022\n",
      "   macro avg      0.993     0.995     0.994     29022\n",
      "weighted avg      0.993     0.996     0.995     29022\n",
      "\n"
     ]
    }
   ],
   "source": [
    "labels=list(crf_model.classes_)\n",
    "labels.remove(\"O\")\n",
    "y_pred = crf_model.predict(X_dev)\n",
    "metrics.flat_f1_score(y_dev, y_pred,\n",
    "                      average='weighted', labels=labels)\n",
    "sorted_labels = sorted(labels,key=lambda name: (name[1:], name[0]))\n",
    "print(metrics.flat_classification_report(\n",
    "    y_dev, y_pred, labels=sorted_labels, digits=3\n",
    "))"
   ]
  },
  {
   "cell_type": "code",
   "execution_count": 9,
   "id": "537402be-68c9-4ac5-b9f1-9161666ce10e",
   "metadata": {},
   "outputs": [
    {
     "data": {
      "text/plain": [
       "['./chinese_crf_model.joblib']"
      ]
     },
     "execution_count": 9,
     "metadata": {},
     "output_type": "execute_result"
    }
   ],
   "source": [
    "import joblib\n",
    "joblib.dump(crf_model, \"./chinese_crf_model.joblib\")"
   ]
  },
  {
   "cell_type": "code",
   "execution_count": 33,
   "id": "a5708d24-5b83-4b55-84ad-0d9d9a3b6ae1",
   "metadata": {},
   "outputs": [
    {
     "data": {
      "text/plain": [
       "[('有', 'O'),\n",
       " ('哪', 'O'),\n",
       " ('些', 'O'),\n",
       " ('公', 'B-NOUN'),\n",
       " ('司', 'I-NOUN'),\n",
       " ('有', 'O'),\n",
       " ('哪', 'O'),\n",
       " ('些', 'O'),\n",
       " ('上', 'B-NOUN'),\n",
       " ('市', 'I-NOUN'),\n",
       " ('公', 'I-NOUN'),\n",
       " ('司', 'I-NOUN'),\n",
       " ('持', 'O'),\n",
       " ('有', 'O'),\n",
       " ('石', 'B-NOUN'),\n",
       " ('药', 'I-NOUN'),\n",
       " ('集', 'I-NOUN'),\n",
       " ('团', 'I-NOUN'),\n",
       " ('的', 'O'),\n",
       " ('股', 'B-NOUN'),\n",
       " ('份', 'I-NOUN')]"
      ]
     },
     "execution_count": 33,
     "metadata": {},
     "output_type": "execute_result"
    }
   ],
   "source": [
    "text = '有哪些公司有哪些上市公司持有石药集团的股份'\n",
    "\n",
    "NER_tagger = joblib.load('./chinese_crf_model.joblib')\n",
    "list_result = []\n",
    "new_sents = re.split(u'(。|！|\\!|？|\\?)', text)\n",
    "sents_feature = [sent2features(sent) for sent in new_sents]\n",
    "y_pred = NER_tagger.predict(sents_feature)\n",
    "for sent, ner_tag in zip(new_sents, y_pred):\n",
    "    for word, tag in zip(sent, ner_tag):\n",
    "        list_result.append((word,tag))\n",
    "list_result    "
   ]
  },
  {
   "cell_type": "code",
   "execution_count": 11,
   "id": "ed5ed934-e283-4e65-af17-0876ebed98a2",
   "metadata": {},
   "outputs": [],
   "source": [
    "import sklearn"
   ]
  },
  {
   "cell_type": "code",
   "execution_count": 12,
   "id": "fd5e8a89-8378-4d1f-80e7-2ac523abc406",
   "metadata": {},
   "outputs": [
    {
     "data": {
      "text/plain": [
       "'0.23.0'"
      ]
     },
     "execution_count": 12,
     "metadata": {},
     "output_type": "execute_result"
    }
   ],
   "source": [
    "sklearn.__version__"
   ]
  },
  {
   "cell_type": "code",
   "execution_count": 53,
   "id": "3b46e078-f32e-4767-8fde-6081ddf8d169",
   "metadata": {},
   "outputs": [],
   "source": [
    "def _bulid_result_line(sentence, tag_pred):\n",
    "    result_list = []\n",
    "    for index, tag in zip(range(len(tag_pred)), tag_pred):\n",
    "        if tag[0] == 'B':\n",
    "            start = index\n",
    "            end = index\n",
    "            label_type = tag[2:]\n",
    "            if end != len(tag_pred) - 1:\n",
    "                while tag_pred[end + 1][0] == 'I' and tag_pred[end + 1][2:] == label_type:\n",
    "                    end += 1\n",
    "                    if end == len(tag_pred) - 1:\n",
    "                        break\n",
    "            result_list.append({'start': start,\n",
    "                                'end': end,\n",
    "                                'lable_type': label_type\n",
    "\n",
    "                                })\n",
    "    nouns = []\n",
    "    line = ''.join(sentence)\n",
    "    if len(result_list) != 0:\n",
    "        for index, item in enumerate(result_list):\n",
    "            nouns.append(''.join(sentence[result_list[index]['start']:result_list[index]['end'] + 1]))\n",
    "    return nouns"
   ]
  },
  {
   "cell_type": "code",
   "execution_count": 15,
   "id": "8b518346-6652-49f1-9d15-9edb0b3a30b2",
   "metadata": {},
   "outputs": [],
   "source": [
    "import pandas as pd\n",
    "test = pd.read_table('data/test_a/span_extrace_test_A.txt', sep='\\t')"
   ]
  },
  {
   "cell_type": "code",
   "execution_count": 16,
   "id": "805217b7-3ef0-4cea-a698-e7cfef58713a",
   "metadata": {},
   "outputs": [
    {
     "data": {
      "text/html": [
       "<div>\n",
       "<style scoped>\n",
       "    .dataframe tbody tr th:only-of-type {\n",
       "        vertical-align: middle;\n",
       "    }\n",
       "\n",
       "    .dataframe tbody tr th {\n",
       "        vertical-align: top;\n",
       "    }\n",
       "\n",
       "    .dataframe thead th {\n",
       "        text-align: right;\n",
       "    }\n",
       "</style>\n",
       "<table border=\"1\" class=\"dataframe\">\n",
       "  <thead>\n",
       "    <tr style=\"text-align: right;\">\n",
       "      <th></th>\n",
       "      <th>用户问句</th>\n",
       "    </tr>\n",
       "  </thead>\n",
       "  <tbody>\n",
       "    <tr>\n",
       "      <th>0</th>\n",
       "      <td>缩倍量阴是什么情况</td>\n",
       "    </tr>\n",
       "    <tr>\n",
       "      <th>1</th>\n",
       "      <td>缩量高换手是什么意思</td>\n",
       "    </tr>\n",
       "    <tr>\n",
       "      <th>2</th>\n",
       "      <td>缩量和放量是什么意思</td>\n",
       "    </tr>\n",
       "    <tr>\n",
       "      <th>3</th>\n",
       "      <td>缩量十字星说明什么</td>\n",
       "    </tr>\n",
       "    <tr>\n",
       "      <th>4</th>\n",
       "      <td>缩量涨停意义</td>\n",
       "    </tr>\n",
       "    <tr>\n",
       "      <th>...</th>\n",
       "      <td>...</td>\n",
       "    </tr>\n",
       "    <tr>\n",
       "      <th>1150</th>\n",
       "      <td>有疑似庄股的个股</td>\n",
       "    </tr>\n",
       "    <tr>\n",
       "      <th>1151</th>\n",
       "      <td>有异动语音播报吗</td>\n",
       "    </tr>\n",
       "    <tr>\n",
       "      <th>1152</th>\n",
       "      <td>有游资的股票和庄股有什么区别</td>\n",
       "    </tr>\n",
       "    <tr>\n",
       "      <th>1153</th>\n",
       "      <td>有有哪些股票是庄股</td>\n",
       "    </tr>\n",
       "    <tr>\n",
       "      <th>1154</th>\n",
       "      <td>有在香港上市</td>\n",
       "    </tr>\n",
       "  </tbody>\n",
       "</table>\n",
       "<p>1155 rows × 1 columns</p>\n",
       "</div>"
      ],
      "text/plain": [
       "                用户问句\n",
       "0          缩倍量阴是什么情况\n",
       "1         缩量高换手是什么意思\n",
       "2         缩量和放量是什么意思\n",
       "3          缩量十字星说明什么\n",
       "4             缩量涨停意义\n",
       "...              ...\n",
       "1150        有疑似庄股的个股\n",
       "1151        有异动语音播报吗\n",
       "1152  有游资的股票和庄股有什么区别\n",
       "1153       有有哪些股票是庄股\n",
       "1154          有在香港上市\n",
       "\n",
       "[1155 rows x 1 columns]"
      ]
     },
     "execution_count": 16,
     "metadata": {},
     "output_type": "execute_result"
    }
   ],
   "source": [
    "test"
   ]
  },
  {
   "cell_type": "code",
   "execution_count": 58,
   "id": "0670d093-f8a2-4280-8952-155e2316b90a",
   "metadata": {},
   "outputs": [],
   "source": [
    "# text = '有哪些公司有哪些上市公司持有石药集团的股份'\n",
    "\n",
    "NER_tagger = joblib.load('./chinese_crf_model.joblib')\n",
    "list_result = []\n",
    "# new_sents = re.split(u'(。|！|\\!|？|\\?)', text)\n",
    "res_tags=[]\n",
    "for text in test['用户问句']:\n",
    "    new_sents = re.split(u'(。|！|\\!|？|\\?)', text)\n",
    "    sents_feature = [sent2features(sent) for sent in new_sents]\n",
    "    y_pred = NER_tagger.predict(sents_feature)\n",
    "    res_tags.append(y_pred[0])\n",
    "# for sent, ner_tag in zip(new_sents, y_pred):\n",
    "#     for word, tag in zip(sent, ner_tag):\n",
    "#         list_result.append((word,tag))\n",
    "# list_result    "
   ]
  },
  {
   "cell_type": "code",
   "execution_count": 59,
   "id": "7a9ccc18-1368-4ae5-af80-fbe665d9a4b5",
   "metadata": {},
   "outputs": [
    {
     "data": {
      "text/plain": [
       "['缩倍量阴']"
      ]
     },
     "execution_count": 59,
     "metadata": {},
     "output_type": "execute_result"
    }
   ],
   "source": [
    "_bulid_result_line(test['用户问句'][0],res_tags[0])"
   ]
  },
  {
   "cell_type": "code",
   "execution_count": 60,
   "id": "ffb28ec5-75c9-46e3-b12f-e66b6ebe0a4c",
   "metadata": {},
   "outputs": [
    {
     "data": {
      "text/plain": [
       "'缩倍量阴是什么情况'"
      ]
     },
     "execution_count": 60,
     "metadata": {},
     "output_type": "execute_result"
    }
   ],
   "source": [
    "test['用户问句'][0]"
   ]
  },
  {
   "cell_type": "code",
   "execution_count": 61,
   "id": "fe701f97-7778-4cb7-ad3d-4da263aeb7c6",
   "metadata": {},
   "outputs": [
    {
     "data": {
      "text/plain": [
       "['B-NOUN', 'I-NOUN', 'I-NOUN', 'I-NOUN', 'O', 'O', 'O', 'O', 'O']"
      ]
     },
     "execution_count": 61,
     "metadata": {},
     "output_type": "execute_result"
    }
   ],
   "source": [
    "res_tags[0]"
   ]
  },
  {
   "cell_type": "code",
   "execution_count": 64,
   "id": "d1f99d84-1672-434b-a18f-6ea1c021d3ad",
   "metadata": {},
   "outputs": [],
   "source": [
    "results=[]\n",
    "\n",
    "\n",
    "for text,tags in zip(test['用户问句'],res_tags):\n",
    "    results.append('_|_'.join(_bulid_result_line(text,tags)))"
   ]
  },
  {
   "cell_type": "code",
   "execution_count": 66,
   "id": "63df4b51-1b49-40ec-adde-44082895116a",
   "metadata": {},
   "outputs": [],
   "source": [
    "test['名词短语']=results"
   ]
  },
  {
   "cell_type": "code",
   "execution_count": 67,
   "id": "4bd964dc-bc47-4e84-8d59-8f466496644e",
   "metadata": {},
   "outputs": [],
   "source": [
    "test.to_csv('result.txt', sep='\\t', index=None)"
   ]
  },
  {
   "cell_type": "code",
   "execution_count": null,
   "id": "b1d53b02-0236-41c5-ba3b-c1378d4bb064",
   "metadata": {},
   "outputs": [],
   "source": []
  }
 ],
 "metadata": {
  "kernelspec": {
   "display_name": "test",
   "language": "python",
   "name": "test"
  },
  "language_info": {
   "codemirror_mode": {
    "name": "ipython",
    "version": 3
   },
   "file_extension": ".py",
   "mimetype": "text/x-python",
   "name": "python",
   "nbconvert_exporter": "python",
   "pygments_lexer": "ipython3",
   "version": "3.6.13"
  }
 },
 "nbformat": 4,
 "nbformat_minor": 5
}
